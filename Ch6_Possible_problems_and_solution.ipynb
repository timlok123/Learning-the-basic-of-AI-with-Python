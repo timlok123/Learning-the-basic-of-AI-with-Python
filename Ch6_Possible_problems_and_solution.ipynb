{
  "cells": [
    {
      "cell_type": "markdown",
      "metadata": {
        "id": "wvGCns8CTwOv"
      },
      "source": [
        "# Ch6 - Possible problem in AI training and Solution"
      ]
    },
    {
      "cell_type": "code",
      "execution_count": 1,
      "metadata": {
        "id": "C_P5zybSTiz5"
      },
      "outputs": [],
      "source": [
        "import numpy as np\n",
        "import matplotlib.pyplot as plt"
      ]
    },
    {
      "cell_type": "markdown",
      "metadata": {
        "id": "PtMnD1cirZps"
      },
      "source": [
        "(List the possible problems & solution encountered during training AI network)"
      ]
    },
    {
      "cell_type": "markdown",
      "metadata": {
        "id": "N19bdilotIbK"
      },
      "source": [
        "## Neural network training"
      ]
    },
    {
      "cell_type": "markdown",
      "metadata": {
        "id": "GSzafuwbsswx"
      },
      "source": [
        "### Introduction"
      ]
    },
    {
      "cell_type": "markdown",
      "metadata": {
        "id": "gPOWd7jvrqt0"
      },
      "source": [
        "In the following of the notebook, we are using the *Iris flower dataset* for training.\n",
        "(Explanation on the data, the components of data, no of data)"
      ]
    },
    {
      "cell_type": "markdown",
      "metadata": {
        "id": "-Qz9yUFrsGG8"
      },
      "source": [
        "(The structure of the AI model, activation function & output layer function in between, optimization methods and loss function, batch size, test case,  )"
      ]
    },
    {
      "cell_type": "markdown",
      "metadata": {
        "id": "SnXijPwNs1zU"
      },
      "source": [
        "### Data preparation"
      ]
    },
    {
      "cell_type": "markdown",
      "metadata": {
        "id": "rO9aIlfztqo6"
      },
      "source": [
        "Below are the steps of data preparation,\n",
        "\n",
        "1. Load the data from *sklearn* module\n",
        "2. Normalization\n",
        "3. Convert the label for training (Understand why do we need to do this)\n",
        "4. Split the train and test case"
      ]
    },
    {
      "cell_type": "code",
      "execution_count": null,
      "metadata": {
        "id": "MZ3vgKrMs-L-"
      },
      "outputs": [],
      "source": [
        "from sklearn import datasets\n",
        "\n",
        "iris_data = datasets.load_iris()\n",
        "input_data = iris_data.data\n",
        "correct = iris_data.target\n",
        "\n",
        "no_of_data = len(correct)"
      ]
    },
    {
      "cell_type": "code",
      "execution_count": null,
      "metadata": {
        "colab": {
          "base_uri": "https://localhost:8080/"
        },
        "id": "kaWjDCTHvP0W",
        "outputId": "63692a42-185d-404f-f272-d7c7beab59e9"
      },
      "outputs": [
        {
          "name": "stdout",
          "output_type": "stream",
          "text": [
            "[[5.1 3.5 1.4 0.2]\n",
            " [4.9 3.  1.4 0.2]\n",
            " [4.7 3.2 1.3 0.2]\n",
            " [4.6 3.1 1.5 0.2]\n",
            " [5.  3.6 1.4 0.2]\n",
            " [5.4 3.9 1.7 0.4]\n",
            " [4.6 3.4 1.4 0.3]\n",
            " [5.  3.4 1.5 0.2]\n",
            " [4.4 2.9 1.4 0.2]\n",
            " [4.9 3.1 1.5 0.1]]\n"
          ]
        }
      ],
      "source": [
        "# Print the first 10 data & take a look of the data\n",
        "print(input_data[:10,])"
      ]
    },
    {
      "cell_type": "code",
      "execution_count": null,
      "metadata": {
        "id": "lC40MQKwvLO2"
      },
      "outputs": [],
      "source": [
        "# Normalization\n",
        "mean_col = np.mean(input_data,axis=0)\n",
        "std_col = np.std(input_data,axis=0)\n",
        "input_data = (input_data - mean_col)/(std_col)"
      ]
    },
    {
      "cell_type": "markdown",
      "metadata": {
        "id": "plCK2MM6waD0"
      },
      "source": [
        "Turn the `correct` to one-hot labelling (Add the graph of one-hot labelling scheme & why do we need to turn it to one-hot)"
      ]
    },
    {
      "cell_type": "code",
      "execution_count": null,
      "metadata": {
        "id": "HxVI3Zt_wGDw"
      },
      "outputs": [],
      "source": [
        "# Turn the `correct` to one-hot labelling\n",
        "correct_data = np.zeros((no_of_data,3))\n",
        "\n",
        "# TODO: Figure out a way to make use the vectorization\n",
        "for i in range(no_of_data):\n",
        "    correct_data[i, correct[i]] = 1.0"
      ]
    },
    {
      "cell_type": "code",
      "execution_count": null,
      "metadata": {
        "colab": {
          "base_uri": "https://localhost:8080/",
          "height": 35
        },
        "id": "_bQF7hsezN8e",
        "outputId": "b30161a4-9d86-470d-f657-b2e929342a4f"
      },
      "outputs": [
        {
          "data": {
            "application/vnd.google.colaboratory.intrinsic+json": {
              "type": "string"
            },
            "text/plain": [
              "'\\nfrom sklearn.model_selection import train_test_split\\n\\ninput_train, input_test, correct_train, correct_test = train_test_split(\\n    normalized_data,\\n    correct_data,\\n    test_size=no_of_data//2\\n)\\n\\nn_train = len(input_train)\\nn_test = len(input_test)\\n'"
            ]
          },
          "execution_count": 6,
          "metadata": {},
          "output_type": "execute_result"
        }
      ],
      "source": [
        "# Split the data to test & learn case\n",
        "\n",
        "\"\"\"\n",
        "from sklearn.model_selection import train_test_split\n",
        "\n",
        "input_train, input_test, correct_train, correct_test = train_test_split(\n",
        "    normalized_data,\n",
        "    correct_data,\n",
        "    test_size=no_of_data//2\n",
        ")\n",
        "\n",
        "n_train = len(input_train)\n",
        "n_test = len(input_test)\n",
        "\"\"\""
      ]
    },
    {
      "cell_type": "code",
      "execution_count": null,
      "metadata": {
        "id": "LoGjjxYN_DOC"
      },
      "outputs": [],
      "source": [
        "index = np.arange(no_of_data)\n",
        "index_train = index[index%2 == 0]\n",
        "index_test = index[index%2 != 0]\n",
        "\n",
        "input_train = input_data[index_train, :]  # 訓練 輸入\n",
        "correct_train = correct_data[index_train, :]  # 訓練 正確答案\n",
        "input_test = input_data[index_test, :]  # 測試 輸入\n",
        "correct_test = correct_data[index_test, :]  # 測試 正確答案\n",
        "\n",
        "n_train = input_train.shape[0] # 訓練資料的樣本數\n",
        "n_test = input_test.shape[0]   # 測試資"
      ]
    },
    {
      "cell_type": "markdown",
      "metadata": {
        "id": "paMrEpoas4OD"
      },
      "source": [
        "### Network structure"
      ]
    },
    {
      "cell_type": "markdown",
      "metadata": {
        "id": "jqIfjwqz0sDZ"
      },
      "source": [
        "1. Define the hyperparameters & initial vaules for the network\n",
        "2. Define the layer structure as object\n",
        "3. Forward and back propagation definition\n"
      ]
    },
    {
      "cell_type": "code",
      "execution_count": null,
      "metadata": {
        "id": "VYxMBcd9rp0b"
      },
      "outputs": [],
      "source": [
        "# Nework neuron\n",
        "n_in = 4 # since we get 4 features for each x\n",
        "n_mid = 25\n",
        "n_out = 3\n",
        "\n",
        "eta = 0.01      # learning rate for SGD\n",
        "epoch = 1000    # No of training times\n",
        "batch_size = 8\n",
        "\n",
        "interval = 100  # Showing the training accuracy every (interval) times"
      ]
    },
    {
      "cell_type": "markdown",
      "metadata": {
        "id": "SBGfQw5-3n0L"
      },
      "source": [
        "(ReLu definition, Softmax expression)"
      ]
    },
    {
      "cell_type": "code",
      "execution_count": null,
      "metadata": {
        "id": "JSW2pfrz2H47"
      },
      "outputs": [],
      "source": [
        "# Define the layer structure & methods\n",
        "\n",
        "# Define the common properities in BaseLayer\n",
        "class BaseLayer:\n",
        "  def __init__(self,n_upper,n, wb_width=0.1): # n_upper - no of neurons in last layer, n - no of neurons\n",
        "    self.w = wb_width * np.random.randn(n_upper, n)\n",
        "    self.b = wb_width * np.random.randn(n)\n",
        "\n",
        "  def update(self,eta):\n",
        "    self.w -= eta * self.grad_w\n",
        "    self.b -= eta * self.grad_b\n",
        "\n",
        "# Middle layer\n",
        "class MiddleLayer(BaseLayer):\n",
        "  def forward(self, x):\n",
        "    self.x = x\n",
        "    self.u = np.dot(x, self.w) + self.b\n",
        "    self.y = np.where(self.u<=0, 0, self.u) # ReLu activation function ]\n",
        "\n",
        "  def backward(self,grad_y):\n",
        "    delta = grad_y * np.where(self.u<=0, 0, 1) # grad_y * derivative of ReLu\n",
        "\n",
        "    self.grad_w = np.dot(self.x.T, delta)\n",
        "    self.grad_b = np.sum(delta, axis=0)\n",
        "\n",
        "    self.grad_x = np.dot(delta, self.w.T)\n",
        "\n",
        "# Output layer\n",
        "class OutputLayer(BaseLayer):\n",
        "  def forward(self,x):\n",
        "    self.x = x\n",
        "    u = np.dot(x, self.w) + self.b\n",
        "    self.y = np.exp(u)/np.sum(np.exp(u),axis=1,keepdims=True)\n",
        "\n",
        "  def backward(self,t):\n",
        "    delta = self.y - t\n",
        "\n",
        "    self.grad_w = np.dot(self.x.T, delta)\n",
        "    self.grad_b = np.sum(delta, axis=0)\n",
        "\n",
        "    self.grad_x = np.dot(delta, self.w.T)\n"
      ]
    },
    {
      "cell_type": "code",
      "execution_count": null,
      "metadata": {
        "id": "CV4x38gc87EY"
      },
      "outputs": [],
      "source": [
        "# Neural network structure\n",
        "\n",
        "middle_layer_1 = MiddleLayer(n_in, n_mid)\n",
        "middle_layer_2 = MiddleLayer(n_mid, n_mid)\n",
        "output_layer = OutputLayer(n_mid,n_out)"
      ]
    },
    {
      "cell_type": "code",
      "execution_count": null,
      "metadata": {
        "id": "U9Fze_fRqulj"
      },
      "outputs": [],
      "source": [
        "# Group the forward, backward propagation, update_weight of different layer in the function\n",
        "\n",
        "def forward_propagation(x):\n",
        "  middle_layer_1.forward(x)\n",
        "  middle_layer_2.forward(middle_layer_1.y)\n",
        "  output_layer.forward(middle_layer_2.y)\n",
        "\n",
        "def backward_propagation(t):\n",
        "  output_layer.backward(t)\n",
        "  middle_layer_2.backward(output_layer.grad_x)\n",
        "  middle_layer_1.backward(middle_layer_2.grad_x)\n",
        "\n",
        "def update_wb(eta=0.01):\n",
        "  middle_layer_1.update(eta)\n",
        "  middle_layer_2.update(eta)\n",
        "  output_layer.update(eta)\n",
        "\n",
        "def get_error(t, batch_size):\n",
        "  # Basically calcaluating the cost function value and normalize with the batch size\n",
        "  # add 1e-7 to avoid ln(0)\n",
        "  return -np.sum(t * np.log(output_layer.y + 1e-7))/batch_size"
      ]
    },
    {
      "cell_type": "markdown",
      "metadata": {
        "id": "DYbvkgKNs_7f"
      },
      "source": [
        "### Training procedures"
      ]
    },
    {
      "cell_type": "code",
      "execution_count": null,
      "metadata": {
        "colab": {
          "base_uri": "https://localhost:8080/"
        },
        "id": "3JwKjFjhrY9u",
        "outputId": "d29b5e54-c552-461a-a45b-e649bd55265b"
      },
      "outputs": [
        {
          "name": "stdout",
          "output_type": "stream",
          "text": [
            "Epoch:0/1000 Error_train:1.0968199039856892 Error_test:1.097538506665832\n",
            "Epoch:100/1000 Error_train:0.024155309428870095 Error_test:0.06816470656647172\n",
            "Epoch:200/1000 Error_train:0.008415673163448071 Error_test:0.09503874860869804\n",
            "Epoch:300/1000 Error_train:0.0033292618019219785 Error_test:0.1222124216622257\n",
            "Epoch:400/1000 Error_train:0.0017992324718631694 Error_test:0.14185531560093045\n",
            "Epoch:500/1000 Error_train:0.001165790061656114 Error_test:0.1566416562099421\n",
            "Epoch:600/1000 Error_train:0.0008371845906636736 Error_test:0.16878736420251012\n",
            "Epoch:700/1000 Error_train:0.000634923347089403 Error_test:0.17907457064084312\n",
            "Epoch:800/1000 Error_train:0.0005070199170607777 Error_test:0.18805048559036963\n",
            "Epoch:900/1000 Error_train:0.0004172960531196517 Error_test:0.19610355002133253\n"
          ]
        }
      ],
      "source": [
        "train_error = []\n",
        "test_error = []\n",
        "interval = 100\n",
        "\n",
        "no_of_batch = n_train // batch_size\n",
        "\n",
        "for i in range(epoch):\n",
        "\n",
        "  # Record the error on training & test case in every training\n",
        "  forward_propagation(input_train)\n",
        "  train_error.append(get_error(correct_train, n_train))\n",
        "\n",
        "  forward_propagation(input_test)\n",
        "  test_error.append(get_error(correct_test, n_test))\n",
        "\n",
        "  if i%interval == 0:\n",
        "    print(\"Epoch:\" + str(i) + \"/\" + str(epoch),\n",
        "              f\"Error_train:{train_error[-1]}\",\n",
        "              f\"Error_test:{test_error[-1]}\")\n",
        "\n",
        "  # Shuffle the data & prepare the index\n",
        "  index_random = np.arange(n_train)\n",
        "  np.random.shuffle(index_random)\n",
        "\n",
        "  for j in range(no_of_batch):\n",
        "\n",
        "    mini_batch_index = index_random[j*batch_size:(j+1)*batch_size]\n",
        "    x = input_train[mini_batch_index, :]\n",
        "    t = correct_train[mini_batch_index, :]\n",
        "\n",
        "    forward_propagation(x)\n",
        "    backward_propagation(t)\n",
        "    update_wb(eta)"
      ]
    },
    {
      "cell_type": "code",
      "execution_count": null,
      "metadata": {
        "colab": {
          "base_uri": "https://localhost:8080/",
          "height": 491
        },
        "id": "1qoyArnMevq8",
        "outputId": "4a458e95-c2e5-46ec-bd84-e41280a3bf6a"
      },
      "outputs": [
        {
          "data": {
            "text/plain": [
              "Text(0, 0.5, 'Error')"
            ]
          },
          "execution_count": 13,
          "metadata": {},
          "output_type": "execute_result"
        },
        {
          "data": {
            "image/png": "[encoded data removed]",
            "text/plain": [
              "<Figure size 640x480 with 1 Axes>"
            ]
          },
          "metadata": {},
          "output_type": "display_data"
        }
      ],
      "source": [
        "# Visualize the training process\n",
        "import matplotlib.pyplot as plt\n",
        "\n",
        "plt.title(\"Training with SGD method\",fontsize=15)\n",
        "plt.plot(np.arange(epoch), train_error, label=\"Train\")\n",
        "plt.plot(np.arange(epoch), test_error, label=\"Test\")\n",
        "plt.legend()\n",
        "plt.xlabel(\"Epoch\")\n",
        "plt.ylabel(\"Error\")\n"
      ]
    },
    {
      "cell_type": "code",
      "execution_count": null,
      "metadata": {
        "colab": {
          "base_uri": "https://localhost:8080/"
        },
        "id": "xPEZQQEVwwsF",
        "outputId": "b0cecddc-a3d3-4e16-bc8e-47636ef74bfd"
      },
      "outputs": [
        {
          "name": "stdout",
          "output_type": "stream",
          "text": [
            "Accuracy Train: 100.0% Accuracy Test: 94.66666666666667%\n"
          ]
        }
      ],
      "source": [
        "forward_propagation(input_train)\n",
        "count_train = np.sum(np.argmax(output_layer.y, axis=1) == np.argmax(correct_train, axis=1))\n",
        "\n",
        "forward_propagation(input_test)\n",
        "count_test = np.sum(np.argmax(output_layer.y, axis=1) == np.argmax(correct_test, axis=1))\n",
        "\n",
        "print(\"Accuracy Train:\", str(count_train/n_train*100) + \"%\",\n",
        "      \"Accuracy Test:\", str(count_test/n_test*100) + \"%\")"
      ]
    },
    {
      "cell_type": "markdown",
      "metadata": {
        "id": "SwUdPz1Ggr0X"
      },
      "source": [
        "It is clear from the plot the overfitting problem occurs. The different in error between the train & test case becomes larger after `epoch=100`."
      ]
    },
    {
      "cell_type": "markdown",
      "metadata": {
        "id": "VNn_w3N8hFZn"
      },
      "source": [
        "## Methods dealing with overfitting"
      ]
    },
    {
      "cell_type": "markdown",
      "metadata": {
        "id": "bFp5VH2gh9fm"
      },
      "source": [
        "In the following of the section, we are going to implement 2 methods to deal with overfitting.\n",
        "\n",
        "1. Changing Stochastic Gradient Descent (SGD) to Adaptive Gradient Descent (AdaGrad)\n",
        "2. Add the dropout layer in between the different layer"
      ]
    },
    {
      "cell_type": "markdown",
      "metadata": {
        "id": "OsVnzU3Aq1Ud"
      },
      "source": [
        "### Adaptive Gradient Descent"
      ]
    },
    {
      "cell_type": "code",
      "execution_count": null,
      "metadata": {
        "id": "Q7Ai2l4tiZym"
      },
      "outputs": [],
      "source": [
        "# Redefine the BaseLayer object to support AdaGrad\n",
        "\n",
        "# Define the common properities in BaseLayer\n",
        "class BaseLayer:\n",
        "  def __init__(self,n_upper,n, wb_width = 0.1): # n_upper - no of neurons in last layer, n - no of neurons\n",
        "    self.w = wb_width * np.random.randn(n_upper, n)\n",
        "    self.b = wb_width * np.random.randn(n)\n",
        "\n",
        "    self.h_w = np.zeros((n_upper, n)) + 1e-8 # add 1e-8 to avoid division by 0\n",
        "    self.h_b = np.zeros((n)) + 1e-8\n",
        "\n",
        "  def update(self,eta):\n",
        "    self.w -= eta * self.grad_w\n",
        "    self.b -= eta * self.grad_b\n",
        "\n",
        "  def update_AdaGrad(self,eta):\n",
        "    self.h_w += np.square(self.grad_w)\n",
        "    self.w -= eta / np.sqrt(self.h_w) * self.grad_w\n",
        "\n",
        "    self.h_b += np.square(self.grad_b)\n",
        "    self.b -= eta / np.sqrt(self.h_b) * self.grad_b\n",
        "\n",
        "# Middle layer\n",
        "class MiddleLayer(BaseLayer):\n",
        "  def forward(self, x):\n",
        "    self.x = x\n",
        "    self.u = np.dot(x, self.w) + self.b\n",
        "    self.y = np.where(self.u<=0, 0, self.u) # ReLu activation function ]\n",
        "\n",
        "  def backward(self,grad_y):\n",
        "    delta = grad_y * np.where(self.u<=0, 0, 1) # grad_y * derivative of ReLu\n",
        "\n",
        "    self.grad_w = np.dot(self.x.T, delta)\n",
        "    self.grad_b = np.sum(delta, axis=0)\n",
        "\n",
        "    self.grad_x = np.dot(delta, self.w.T)\n",
        "\n",
        "# Output layer\n",
        "class OutputLayer(BaseLayer):\n",
        "  def forward(self,x):\n",
        "    self.x = x\n",
        "    self.u = np.dot(x, self.w) + self.b\n",
        "    self.y = np.exp(self.u)/(np.sum(np.exp(self.u),axis=1,keepdims=True))\n",
        "\n",
        "  def backward(self,t):\n",
        "    delta = self.y - t\n",
        "\n",
        "    self.grad_w = np.dot(self.x.T, delta)\n",
        "    self.grad_b = np.sum(delta, axis=0)\n",
        "\n",
        "    self.grad_x = np.dot(delta, self.w.T)\n"
      ]
    },
    {
      "cell_type": "code",
      "execution_count": null,
      "metadata": {
        "id": "PLMFy4WAo0Fd"
      },
      "outputs": [],
      "source": [
        "def update_wb_AdaGrad(eta):\n",
        "    middle_layer_1.update_AdaGrad(eta)\n",
        "    middle_layer_2.update_AdaGrad(eta)\n",
        "    output_layer.update_AdaGrad(eta)"
      ]
    },
    {
      "cell_type": "code",
      "execution_count": null,
      "metadata": {
        "id": "Nz9_5HI3n18g"
      },
      "outputs": [],
      "source": [
        "# Redine the network structure\n",
        "\n",
        "middle_layer_1 = MiddleLayer(n_in, n_mid)\n",
        "middle_layer_2 = MiddleLayer(n_mid, n_mid)\n",
        "output_layer = OutputLayer(n_mid,n_out)"
      ]
    },
    {
      "cell_type": "code",
      "execution_count": null,
      "metadata": {
        "id": "P8s6W758obIx"
      },
      "outputs": [],
      "source": [
        "# Training - With AdaGrad\n",
        "\n",
        "# TODO: Ammend the following code in next session\n",
        "\n",
        "train_error = []\n",
        "\n",
        "test_error = []\n",
        "\n",
        "no_of_batch = n_train // batch_size\n",
        "\n",
        "for i in range(epoch):\n",
        "\n",
        "  # Record the error on training & test case in every training\n",
        "  forward_propagation(input_train)\n",
        "  train_error.append(get_error(correct_train, n_train))\n",
        "\n",
        "  forward_propagation(input_test)\n",
        "  test_error.append(get_error(correct_test, n_test))\n",
        "\n",
        "  # Shuffle the data & prepare the index\n",
        "  index_random = np.arange(n_train)\n",
        "  np.random.shuffle(index_random)\n",
        "\n",
        "  for j in range(no_of_batch):\n",
        "\n",
        "    mini_batch_index = index_random[j*batch_size:(j+1)*batch_size]\n",
        "    x = input_train[mini_batch_index, :]\n",
        "    t = correct_train[mini_batch_index, :]\n",
        "\n",
        "    forward_propagation(x)\n",
        "    backward_propagation(t)\n",
        "    update_wb_AdaGrad(eta)"
      ]
    },
    {
      "cell_type": "code",
      "execution_count": null,
      "metadata": {
        "colab": {
          "base_uri": "https://localhost:8080/",
          "height": 891
        },
        "id": "pe0QxemqoglQ",
        "outputId": "fb6ef35b-2373-4245-d224-e4c2402fe56e"
      },
      "outputs": [
        {
          "data": {
            "text/plain": [
              "Text(0, 0.5, 'Error')"
            ]
          },
          "execution_count": 19,
          "metadata": {},
          "output_type": "execute_result"
        },
        {
          "data": {
            "image/png": "[encoded data removed]",
            "text/plain": [
              "<Figure size 1000x1000 with 1 Axes>"
            ]
          },
          "metadata": {},
          "output_type": "display_data"
        }
      ],
      "source": [
        "# Visualize the training process\n",
        "import matplotlib.pyplot as plt\n",
        "\n",
        "plt.figure(figsize=(10,10))\n",
        "plt.title(\"Training with AdaGrad\",fontsize=15)\n",
        "plt.plot(np.arange(epoch), train_error, label=\"Train\")\n",
        "plt.plot(np.arange(epoch), test_error, label=\"Test\")\n",
        "plt.legend()\n",
        "plt.xlabel(\"Epoch\")\n",
        "plt.ylabel(\"Error\")"
      ]
    },
    {
      "cell_type": "code",
      "execution_count": null,
      "metadata": {
        "colab": {
          "base_uri": "https://localhost:8080/"
        },
        "id": "UzYUhGNT-Evf",
        "outputId": "bc90a17e-ae8d-4b8c-e4b9-e048c098e2a5"
      },
      "outputs": [
        {
          "name": "stdout",
          "output_type": "stream",
          "text": [
            "Accuracy Train: 100.0% Accuracy Test: 93.33333333333333%\n"
          ]
        }
      ],
      "source": [
        "forward_propagation(input_train)\n",
        "count_train = np.sum(np.argmax(output_layer.y, axis=1) == np.argmax(correct_train, axis=1))\n",
        "\n",
        "forward_propagation(input_test)\n",
        "count_test = np.sum(np.argmax(output_layer.y, axis=1) == np.argmax(correct_test, axis=1))\n",
        "\n",
        "print(\"Accuracy Train:\", str(count_train/n_train*100) + \"%\",\n",
        "      \"Accuracy Test:\", str(count_test/n_test*100) + \"%\")"
      ]
    },
    {
      "cell_type": "markdown",
      "metadata": {
        "id": "gB_MN95fq55U"
      },
      "source": [
        "### Dropout Layer"
      ]
    },
    {
      "cell_type": "markdown",
      "metadata": {
        "id": "zAW3MM8Bq-58"
      },
      "source": [
        "(How do you implement the dropout layer)"
      ]
    },
    {
      "cell_type": "code",
      "execution_count": null,
      "metadata": {
        "id": "9tGx1anS7pXj"
      },
      "outputs": [],
      "source": [
        "# Redefine the BaseLayer object to support AdaGrad\n",
        "\n",
        "# Define the common properities in BaseLayer\n",
        "class BaseLayer:\n",
        "  def __init__(self,n_upper,n, wb_width = 0.1): # n_upper - no of neurons in last layer, n - no of neurons\n",
        "    self.w = wb_width * np.random.randn(n_upper, n)\n",
        "    self.b = wb_width * np.random.randn(n)\n",
        "\n",
        "    self.h_w = np.zeros((n_upper, n)) + 1e-8 # add 1e-8 to avoid division by 0\n",
        "    self.h_b = np.zeros((n)) + 1e-8\n",
        "\n",
        "  def update(self,eta):\n",
        "    self.w -= eta * self.grad_w\n",
        "    self.b -= eta * self.grad_b\n",
        "\n",
        "  def update_AdaGrad(self,eta):\n",
        "    self.h_w += np.square(self.grad_w)\n",
        "    self.w -= eta / np.sqrt(self.h_w) * self.grad_w\n",
        "\n",
        "    self.h_b += np.square(self.grad_b)\n",
        "    self.b -= eta / np.sqrt(self.h_b) * self.grad_b\n",
        "\n",
        "# Middle layer\n",
        "class MiddleLayer(BaseLayer):\n",
        "  def forward(self, x):\n",
        "    self.x = x\n",
        "    self.u = np.dot(x, self.w) + self.b\n",
        "    self.y = np.where(self.u<=0, 0, self.u) # ReLu activation function ]\n",
        "\n",
        "  def backward(self,grad_y):\n",
        "    delta = grad_y * np.where(self.u<=0, 0, 1) # grad_y * derivative of ReLu\n",
        "\n",
        "    self.grad_w = np.dot(self.x.T, delta)\n",
        "    self.grad_b = np.sum(delta, axis=0)\n",
        "\n",
        "    self.grad_x = np.dot(delta, self.w.T)\n",
        "\n",
        "# Output layer\n",
        "class OutputLayer(BaseLayer):\n",
        "  def forward(self,x):\n",
        "    self.x = x\n",
        "    self.u = np.dot(x, self.w) + self.b\n",
        "    self.y = np.exp(self.u)/(np.sum(np.exp(self.u),axis=1,keepdims=True))\n",
        "\n",
        "  def backward(self,t):\n",
        "    delta = self.y - t\n",
        "\n",
        "    self.grad_w = np.dot(self.x.T, delta)\n",
        "    self.grad_b = np.sum(delta, axis=0)\n",
        "\n",
        "    self.grad_x = np.dot(delta, self.w.T)\n"
      ]
    },
    {
      "cell_type": "code",
      "execution_count": null,
      "metadata": {
        "id": "VRxCDeRPlW1P"
      },
      "outputs": [],
      "source": [
        "class Dropout:\n",
        "    def __init__(self, dropout_ratio):\n",
        "        self.dropout_ratio = dropout_ratio\n",
        "\n",
        "    def forward(self, x, is_train_flag):\n",
        "\n",
        "        if is_train_flag: # only use the dropout layer during training. Switch this when testing\n",
        "\n",
        "            rand_matrix = np.random.rand(*x.shape) # Generate matrix with same shape as x and no in [0,1]\n",
        "            self.dropout = np.where(rand_matrix >self.dropout_ratio ,1,0)\n",
        "            self.y = x * self.dropout\n",
        "\n",
        "        else:\n",
        "            self.y = (1 - self.dropout_ratio)*x # To maintain the same proportionn of the data for testing\n",
        "\n",
        "    def backward(self, grad_y):\n",
        "        self.grad_x = grad_y * self.dropout # Only pass the value of neuron that has not been dropped out in the forward propagation"
      ]
    },
    {
      "cell_type": "code",
      "execution_count": null,
      "metadata": {
        "id": "IX8tfIq171SY"
      },
      "outputs": [],
      "source": [
        "#　Redefine the neural network neruon unit\n",
        "\n",
        "n_in = 4\n",
        "n_mid = 50\n",
        "n_out = 3"
      ]
    },
    {
      "cell_type": "code",
      "execution_count": null,
      "metadata": {
        "id": "UeHxrcEjuXVn"
      },
      "outputs": [],
      "source": [
        "# Redine the network structure\n",
        "\n",
        "middle_layer_1 = MiddleLayer(n_in, n_mid)\n",
        "dropout_1 = Dropout(0.5)\n",
        "\n",
        "middle_layer_2 = MiddleLayer(n_mid, n_mid)\n",
        "dropout_2 = Dropout(0.5)\n",
        "\n",
        "output_layer = OutputLayer(n_mid,n_out)"
      ]
    },
    {
      "cell_type": "code",
      "execution_count": null,
      "metadata": {
        "id": "C2l_M8jsunU7"
      },
      "outputs": [],
      "source": [
        "# Redefine the way for doing forward and backward propagation\n",
        "\n",
        "def forward_propagation(x,is_train_flag):\n",
        "    middle_layer_1.forward(x)\n",
        "    dropout_1.forward(middle_layer_1.y,is_train_flag)\n",
        "\n",
        "    middle_layer_2.forward(dropout_1.y)\n",
        "    dropout_2.forward(middle_layer_2.y,is_train_flag)\n",
        "\n",
        "    output_layer.forward(dropout_2.y)\n",
        "\n",
        "def backward_propagation(t):\n",
        "    output_layer.backward(t)\n",
        "\n",
        "    dropout_2.backward(output_layer.grad_x)\n",
        "    middle_layer_2.backward(dropout_2.grad_x)\n",
        "\n",
        "    dropout_1.backward(middle_layer_2.grad_x)\n",
        "    middle_layer_1.backward(dropout_1.grad_x)\n",
        "\n",
        "def update_wb_AdaGrad(eta):\n",
        "    middle_layer_1.update_AdaGrad(eta)\n",
        "    middle_layer_2.update_AdaGrad(eta)\n",
        "    output_layer.update_AdaGrad(eta)\n",
        "    #update_AdaGrad"
      ]
    },
    {
      "cell_type": "code",
      "execution_count": null,
      "metadata": {
        "id": "PYJdlAhmv30n"
      },
      "outputs": [],
      "source": [
        "# Training - With AdaGrad + Dropout\n",
        "\n",
        "train_error = []\n",
        "\n",
        "test_error = []\n",
        "\n",
        "no_of_batch = n_train // batch_size\n",
        "\n",
        "for i in range(epoch):\n",
        "\n",
        "  # Record the error on training & test case in every training\n",
        "  forward_propagation(input_train,is_train_flag=False)    # would not use dropout layer when predicting / calculating the error\n",
        "  train_error.append(get_error(correct_train, n_train))\n",
        "\n",
        "  forward_propagation(input_test,is_train_flag=False)\n",
        "  test_error.append(get_error(correct_test, n_test))\n",
        "\n",
        "  # Shuffle the data & prepare the index\n",
        "  index_random = np.arange(n_train)\n",
        "  np.random.shuffle(index_random)\n",
        "\n",
        "  for j in range(no_of_batch):\n",
        "\n",
        "    mini_batch_index = index_random[j*batch_size:(j+1)*batch_size]\n",
        "    x = input_train[mini_batch_index, :]\n",
        "    t = correct_train[mini_batch_index, :]\n",
        "\n",
        "    forward_propagation(x,is_train_flag=True)\n",
        "    backward_propagation(t)\n",
        "    update_wb_AdaGrad(eta)"
      ]
    },
    {
      "cell_type": "code",
      "execution_count": null,
      "metadata": {
        "colab": {
          "base_uri": "https://localhost:8080/",
          "height": 891
        },
        "id": "ImC_lpAgwF18",
        "outputId": "7a3f998a-352a-4d4c-90a1-790cfd162211"
      },
      "outputs": [
        {
          "data": {
            "text/plain": [
              "Text(0, 0.5, 'Error')"
            ]
          },
          "execution_count": 27,
          "metadata": {},
          "output_type": "execute_result"
        },
        {
          "data": {
            "image/png": "[encoded data removed]",
            "text/plain": [
              "<Figure size 1000x1000 with 1 Axes>"
            ]
          },
          "metadata": {},
          "output_type": "display_data"
        }
      ],
      "source": [
        "# Visualize the training process\n",
        "import matplotlib.pyplot as plt\n",
        "\n",
        "plt.figure(figsize=(10,10))\n",
        "plt.title(\"Training with AdaGrad + Dropout\",fontsize=15)\n",
        "plt.plot(np.arange(epoch), train_error, label=\"Train\")\n",
        "plt.plot(np.arange(epoch), test_error, label=\"Test\")\n",
        "plt.legend()\n",
        "plt.xlabel(\"Epoch\")\n",
        "plt.ylabel(\"Error\")"
      ]
    },
    {
      "cell_type": "code",
      "execution_count": null,
      "metadata": {
        "colab": {
          "base_uri": "https://localhost:8080/"
        },
        "id": "ESShddAH-mbC",
        "outputId": "7cf1d0df-6307-450d-c854-1dfde75f6aae"
      },
      "outputs": [
        {
          "name": "stdout",
          "output_type": "stream",
          "text": [
            "Accuracy Train: 100.0% Accuracy Test: 97.33333333333334%\n"
          ]
        }
      ],
      "source": [
        "forward_propagation(input_train,is_train_flag=False)\n",
        "count_train = np.sum(np.argmax(output_layer.y, axis=1) == np.argmax(correct_train, axis=1))\n",
        "\n",
        "forward_propagation(input_test,is_train_flag=False)\n",
        "count_test = np.sum(np.argmax(output_layer.y, axis=1) == np.argmax(correct_test, axis=1))\n",
        "\n",
        "print(\"Accuracy Train:\", str(count_train/n_train*100) + \"%\",\n",
        "      \"Accuracy Test:\", str(count_test/n_test*100) + \"%\")"
      ]
    },
    {
      "cell_type": "markdown",
      "metadata": {
        "id": "DhHWhfz7x9Zw"
      },
      "source": [
        "## Implementation of the same model with Pytorch Library"
      ]
    },
    {
      "cell_type": "markdown",
      "metadata": {
        "id": "OxRnNUrQLWOw"
      },
      "source": [
        "### Prepare the data (again)"
      ]
    },
    {
      "cell_type": "code",
      "execution_count": 2,
      "metadata": {
        "id": "_HOaOOkVLWOz"
      },
      "outputs": [],
      "source": [
        "import numpy as np\n",
        "import matplotlib.pyplot as plt\n",
        "\n",
        "from sklearn import datasets\n",
        "from sklearn.model_selection import train_test_split\n",
        "from sklearn.preprocessing import StandardScaler"
      ]
    },
    {
      "cell_type": "code",
      "execution_count": 4,
      "metadata": {
        "id": "-9f5n4frLWO2"
      },
      "outputs": [
        {
          "ename": "ModuleNotFoundError",
          "evalue": "No module named 'torch'",
          "output_type": "error",
          "traceback": [
            "\u001b[1;31m---------------------------------------------------------------------------\u001b[0m",
            "\u001b[1;31mModuleNotFoundError\u001b[0m                       Traceback (most recent call last)",
            "Cell \u001b[1;32mIn[4], line 1\u001b[0m\n\u001b[1;32m----> 1\u001b[0m \u001b[38;5;28;01mimport\u001b[39;00m \u001b[38;5;21;01mtorch\u001b[39;00m\n\u001b[0;32m      2\u001b[0m \u001b[38;5;28;01mimport\u001b[39;00m \u001b[38;5;21;01mtorch\u001b[39;00m\u001b[38;5;21;01m.\u001b[39;00m\u001b[38;5;21;01mnn\u001b[39;00m \u001b[38;5;28;01mas\u001b[39;00m \u001b[38;5;21;01mnn\u001b[39;00m\n\u001b[0;32m      3\u001b[0m \u001b[38;5;28;01mfrom\u001b[39;00m \u001b[38;5;21;01mtorch\u001b[39;00m\u001b[38;5;21;01m.\u001b[39;00m\u001b[38;5;21;01mutils\u001b[39;00m\u001b[38;5;21;01m.\u001b[39;00m\u001b[38;5;21;01mdata\u001b[39;00m \u001b[38;5;28;01mimport\u001b[39;00m DataLoader, random_split\n",
            "\u001b[1;31mModuleNotFoundError\u001b[0m: No module named 'torch'"
          ]
        }
      ],
      "source": [
        "import torch\n",
        "import torch.nn as nn\n",
        "from torch.utils.data import DataLoader, random_split"
      ]
    },
    {
      "cell_type": "code",
      "execution_count": 118,
      "metadata": {
        "id": "sdWiso5PLWO3"
      },
      "outputs": [],
      "source": [
        "# Input and normalized the data\n",
        "\n",
        "iris_data = datasets.load_iris()\n",
        "input_data = iris_data.data\n",
        "correct = iris_data.target\n",
        "\n",
        "no_of_data = len(correct)"
      ]
    },
    {
      "cell_type": "code",
      "execution_count": 119,
      "metadata": {
        "id": "uaQd80owLsZh"
      },
      "outputs": [],
      "source": [
        "input_train, input_test, correct_train, correct_test = train_test_split(\n",
        "    input_data,\n",
        "    correct,\n",
        "    test_size=0.5,\n",
        "    random_state=42\n",
        ")"
      ]
    },
    {
      "cell_type": "code",
      "execution_count": 120,
      "metadata": {
        "id": "PgTaKtsJKsQJ"
      },
      "outputs": [],
      "source": [
        "# Normalize the data with sckit learn\n",
        "scaler = StandardScaler()\n",
        "\n",
        "input_train = scaler.fit_transform(input_train)\n",
        "input_test = scaler.transform(input_test)"
      ]
    },
    {
      "cell_type": "code",
      "execution_count": 121,
      "metadata": {
        "id": "TtS117eUPYL1"
      },
      "outputs": [],
      "source": [
        "# Convert them to Torch Tensor\n",
        "X_train = torch.FloatTensor(input_train)\n",
        "X_test = torch.FloatTensor(input_test)\n",
        "t_train = torch.LongTensor(correct_train)\n",
        "t_test = torch.LongTensor(correct_test)"
      ]
    },
    {
      "cell_type": "markdown",
      "metadata": {
        "id": "pUD-ThZeQRFt"
      },
      "source": [
        "### Define the neural network structure"
      ]
    },
    {
      "cell_type": "code",
      "execution_count": 1,
      "metadata": {
        "id": "B_frSpcAQZ_M"
      },
      "outputs": [
        {
          "ename": "NameError",
          "evalue": "name 'nn' is not defined",
          "output_type": "error",
          "traceback": [
            "\u001b[1;31m---------------------------------------------------------------------------\u001b[0m",
            "\u001b[1;31mNameError\u001b[0m                                 Traceback (most recent call last)",
            "Cell \u001b[1;32mIn[1], line 1\u001b[0m\n\u001b[1;32m----> 1\u001b[0m \u001b[38;5;28;01mclass\u001b[39;00m \u001b[38;5;21;01mSimpleFNNClassificationModel\u001b[39;00m(nn\u001b[38;5;241m.\u001b[39mModule):\n\u001b[0;32m      2\u001b[0m     \u001b[38;5;28;01mdef\u001b[39;00m \u001b[38;5;21m__init__\u001b[39m(\u001b[38;5;28mself\u001b[39m, n_in, n_mid, n_out):\n\u001b[0;32m      3\u001b[0m         \u001b[38;5;28msuper\u001b[39m(SimpleNN, \u001b[38;5;28mself\u001b[39m)\u001b[38;5;241m.\u001b[39m\u001b[38;5;21m__init__\u001b[39m()\n",
            "\u001b[1;31mNameError\u001b[0m: name 'nn' is not defined"
          ]
        }
      ],
      "source": [
        "class SimpleFNNClassificationModel(nn.Module):\n",
        "    def __init__(self, n_in, n_mid, n_out):\n",
        "        super(SimpleNN, self).__init__()\n",
        "        self.middle_layer_1 = nn.Linear(n_in, n_mid)\n",
        "        self.middle_layer_2 = nn.Linear(n_mid, n_mid)\n",
        "        self.output_layer = nn.Linear(n_mid, n_out)\n",
        "        self.relu = nn.ReLU()\n",
        "        self.softmax = nn.Softmax(dim=1)\n",
        "\n",
        "    def forward(self, x):\n",
        "        x = self.relu(self.middle_layer_1(x))\n",
        "        x = self.relu(self.middle_layer_2(x))\n",
        "        x = self.softmax(self.output_layer(x))\n",
        "        return x"
      ]
    },
    {
      "cell_type": "code",
      "execution_count": 123,
      "metadata": {
        "id": "mt-ZLXntRCoC"
      },
      "outputs": [],
      "source": [
        "input_dim  = 4\n",
        "output_dim = 3\n",
        "model = SimpleFNNClassificationModel(input_dim,output_dim)"
      ]
    },
    {
      "cell_type": "code",
      "execution_count": 124,
      "metadata": {
        "id": "2eaCVxBbRb16"
      },
      "outputs": [],
      "source": [
        "learning_rate = 0.01\n",
        "loss_function = nn.CrossEntropyLoss()\n",
        "optimizer = torch.optim.SGD(model.parameters(),lr=learning_rate)"
      ]
    },
    {
      "cell_type": "code",
      "execution_count": 125,
      "metadata": {
        "id": "i-utW-S-R7f3"
      },
      "outputs": [],
      "source": [
        "def train_network(model,optimizer,criterion,X_train,y_train,X_test,y_test,num_epochs,train_losses,test_losses):\n",
        "    for epoch in range(num_epochs):\n",
        "\n",
        "        #clear out the gradients from the last step loss.backward()\n",
        "        optimizer.zero_grad()\n",
        "\n",
        "        #forward feed\n",
        "        output_train = model(X_train)\n",
        "\n",
        "        #calculate the loss\n",
        "        loss_train = criterion(output_train, y_train)\n",
        "\n",
        "        #backward propagation: calculate gradients\n",
        "        loss_train.backward()\n",
        "\n",
        "        #update the weights\n",
        "        optimizer.step()\n",
        "\n",
        "        output_test = model(X_test)\n",
        "        loss_test = criterion(output_test,y_test)\n",
        "\n",
        "        # Record the train loss and test loss \n",
        "        train_losses[epoch] = loss_train.item()\n",
        "        test_losses[epoch] = loss_test.item()\n",
        "\n",
        "        if (epoch + 1) % 100 == 0:\n",
        "            print(f\"Epoch {epoch+1}/{num_epochs}, Train Loss: {loss_train.item():.4f}, Test Loss: {loss_test.item():.4f}\")"
      ]
    },
    {
      "cell_type": "code",
      "execution_count": 126,
      "metadata": {
        "id": "x7WemhvDR_zR"
      },
      "outputs": [],
      "source": [
        "num_epochs = 1000\n",
        "train_losses = np.zeros(num_epochs)\n",
        "test_losses  = np.zeros(num_epochs)"
      ]
    },
    {
      "cell_type": "code",
      "execution_count": 127,
      "metadata": {
        "colab": {
          "base_uri": "https://localhost:8080/"
        },
        "id": "plFr5f8OIRvp",
        "outputId": "ca4b35ca-6386-4650-8ad9-3bfe059b3639"
      },
      "outputs": [
        {
          "name": "stdout",
          "output_type": "stream",
          "text": [
            "Epoch 100/1000, Train Loss: 0.6892, Test Loss: 0.6404\n",
            "Epoch 200/1000, Train Loss: 0.5244, Test Loss: 0.4651\n",
            "Epoch 300/1000, Train Loss: 0.4415, Test Loss: 0.3810\n",
            "Epoch 400/1000, Train Loss: 0.3907, Test Loss: 0.3305\n",
            "Epoch 500/1000, Train Loss: 0.3552, Test Loss: 0.2952\n",
            "Epoch 600/1000, Train Loss: 0.3279, Test Loss: 0.2675\n",
            "Epoch 700/1000, Train Loss: 0.3050, Test Loss: 0.2443\n",
            "Epoch 800/1000, Train Loss: 0.2837, Test Loss: 0.2234\n",
            "Epoch 900/1000, Train Loss: 0.2647, Test Loss: 0.2049\n",
            "Epoch 1000/1000, Train Loss: 0.2475, Test Loss: 0.1883\n"
          ]
        }
      ],
      "source": [
        "train_network(model,optimizer,loss_function,X_train,t_train,X_test,t_test,num_epochs,train_losses,test_losses)"
      ]
    },
    {
      "cell_type": "code",
      "execution_count": 128,
      "metadata": {
        "colab": {
          "base_uri": "https://localhost:8080/",
          "height": 830
        },
        "id": "zU7ITno_SOli",
        "outputId": "46691171-dede-49f2-e689-5d15c9103a55"
      },
      "outputs": [
        {
          "data": {
            "image/png": "[encoded data removed]",
            "text/plain": [
              "<Figure size 1000x1000 with 1 Axes>"
            ]
          },
          "metadata": {},
          "output_type": "display_data"
        }
      ],
      "source": [
        "plt.figure(figsize=(10,10))\n",
        "plt.plot(train_losses, label='train loss')\n",
        "plt.plot(test_losses, label='test loss')\n",
        "plt.legend()\n",
        "plt.show()"
      ]
    }
  ],
  "metadata": {
    "colab": {
      "provenance": []
    },
    "kernelspec": {
      "display_name": "Python 3",
      "name": "python3"
    },
    "language_info": {
      "codemirror_mode": {
        "name": "ipython",
        "version": 3
      },
      "file_extension": ".py",
      "mimetype": "text/x-python",
      "name": "python",
      "nbconvert_exporter": "python",
      "pygments_lexer": "ipython3",
      "version": "3.12.4"
    }
  },
  "nbformat": 4,
  "nbformat_minor": 0
}
