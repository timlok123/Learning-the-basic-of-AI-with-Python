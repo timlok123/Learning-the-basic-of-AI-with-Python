{
  "cells": [
    {
      "cell_type": "markdown",
      "metadata": {
        "colab_type": "text",
        "id": "view-in-github"
      },
      "source": [
        "<a href=\"https://colab.research.google.com/github/timlok123/Learning-the-basic-of-AI-with-Python/blob/main/Ch5_Basic_of_trainning_neural_network.ipynb\" target=\"_parent\"><img src=\"https://colab.research.google.com/assets/colab-badge.svg\" alt=\"Open In Colab\"/></a>"
      ]
    },
    {
      "cell_type": "markdown",
      "metadata": {
        "id": "wvGCns8CTwOv"
      },
      "source": [
        "## Ch5-Basic of trainning neural network"
      ]
    },
    {
      "cell_type": "code",
      "execution_count": 1,
      "metadata": {
        "id": "C_P5zybSTiz5"
      },
      "outputs": [],
      "source": [
        "import numpy as np\n",
        "import matplotlib.pyplot as plt"
      ]
    },
    {
      "cell_type": "markdown",
      "metadata": {
        "id": "wrFfnZAFkohD"
      },
      "source": [
        "In the following of the notebook, we are going to build a simple neural network with 1-3-1 structure. The layer refers to the connection in between the node.\n",
        "\n",
        "(add the choice of activation function, loss function, optimization methods and batch here)\n",
        "(The tasks of the neural network)"
      ]
    },
    {
      "cell_type": "markdown",
      "metadata": {
        "id": "Gm_lgPQfo4Uj"
      },
      "source": [
        "Output layer\n",
        "\n",
        "(Add the explantion to the backward propagation of the output layer here)"
      ]
    },
    {
      "cell_type": "code",
      "execution_count": 7,
      "metadata": {
        "id": "PhK06ht1nh2U"
      },
      "outputs": [],
      "source": [
        "class Outputlayer:\n",
        "\n",
        "    def __init__(self, m, n):\n",
        "        WIDTH_CONST = 0.01  # the initial weigh is better to be in this order of magnitude\n",
        "\n",
        "        self.w2 = WIDTH_CONST * np.random.rand(m,n)\n",
        "        self.b2 = WIDTH_CONST * np.random.rand(n)\n",
        "\n",
        "    def forward(self,y1):\n",
        "      self.y1 = y1\n",
        "\n",
        "      # u = YW + b\n",
        "      u2 = np.dot(y1, self.w2) + self.b2\n",
        "\n",
        "      # activation function for output layer is linear function \n",
        "      self.y2 = u2\n",
        "\n",
        "    def backward(self, t):\n",
        "      delta2 = self.y2 - t\n",
        "\n",
        "      self.grad_w2 = np.dot(self.y1.T, delta2)\n",
        "      self.grad_b2 = np.sum(delta2, axis=0)\n",
        "\n",
        "      self.grad_y1 = np.dot(delta2, self.w2.T)\n",
        "\n",
        "    def update(self,eta):\n",
        "      self.w2 -= eta * self.grad_w2\n",
        "      self.b2 -= eta * self.grad_b2\n"
      ]
    },
    {
      "cell_type": "markdown",
      "metadata": {
        "id": "mJFvA2d-qrzi"
      },
      "source": [
        "Middle layer\n",
        "\n",
        "- Activation function: Sigmoid function\n",
        "\n",
        "\n",
        "(Explain why does the activation function looks like this)"
      ]
    },
    {
      "cell_type": "code",
      "execution_count": 10,
      "metadata": {
        "id": "KMqO_3lqq0L_"
      },
      "outputs": [],
      "source": [
        "class Middlelayer:\n",
        "\n",
        "    def __init__(self, m, n):\n",
        "        WIDTH_CONST = 0.01  # the initial weigh is better to be in this order of magnitude\n",
        "\n",
        "        self.w1 = WIDTH_CONST * np.random.rand(m,n)\n",
        "        self.b1 = WIDTH_CONST * np.random.rand(n)\n",
        "\n",
        "    def forward(self,x):\n",
        "      self.x = x\n",
        "\n",
        "      # u = YW + b\n",
        "      u1 = np.dot(x, self.w1) + self.b1\n",
        "\n",
        "      # activation function for middle layer is sigmoid function \n",
        "      self.y1 = 1/(1 + np.exp(-u1))\n",
        "\n",
        "    def backward(self, grad_y1):\n",
        "      delta1 = grad_y1 * (1 - self.y1) * self.y1\n",
        "    \n",
        "      self.grad_w1 = np.dot(self.x.T, delta1)\n",
        "      self.grad_b1 = np.sum(delta1, axis=0)\n",
        "\n",
        "    def update(self,eta):\n",
        "      self.w1 -= eta * self.grad_w1\n",
        "      self.b1 -= eta * self.grad_b1"
      ]
    },
    {
      "cell_type": "markdown",
      "metadata": {
        "id": "Oa_OniETsDDV"
      },
      "source": [
        "Construct the neural network"
      ]
    },
    {
      "cell_type": "code",
      "execution_count": 20,
      "metadata": {
        "id": "Ifp7SwRrsKVi"
      },
      "outputs": [
        {
          "name": "stdout",
          "output_type": "stream",
          "text": [
            "Complete the 200 epoch\n",
            "Complete the 400 epoch\n",
            "Complete the 600 epoch\n",
            "Complete the 800 epoch\n",
            "Complete the 1000 epoch\n",
            "Complete the 1200 epoch\n",
            "Complete the 1400 epoch\n",
            "Complete the 1600 epoch\n",
            "Complete the 1800 epoch\n",
            "Complete the 2000 epoch\n"
          ]
        }
      ],
      "source": [
        "# Training data preparation\n",
        "\n",
        "input_data = np.arange(0, 2*np.pi, 0.1)\n",
        "correct_data = np.sin(np.arange(0, 2*np.pi, 0.1))\n",
        "input_data_normalized = (input_data - np.pi)/np.pi  # To control the data to be lying between -1 to 1\n",
        "no_of_data = len(input_data)\n",
        "\n",
        "# Hyperparameters tuning\n",
        "\n",
        "n_in = 1\n",
        "n_mid = 3\n",
        "n_out = 1\n",
        "\n",
        "eta = 0.1\n",
        "epoch = 2000\n",
        "interval = 200 \n",
        "\n",
        "# Initialize the model\n",
        "\n",
        "middle_layer = Middlelayer(n_in, n_mid)\n",
        "output_layer = Outputlayer(n_mid, n_out)\n",
        "\n",
        "# Training process\n",
        "\n",
        "for i in range(epoch):\n",
        "\n",
        "    # Shuffle the index randomly\n",
        "    random_index = np.arange(0,no_of_data)\n",
        "    np.random.shuffle(random_index)\n",
        "\n",
        "    for idx in random_index:\n",
        "\n",
        "      input_x = input_data_normalized[idx]\n",
        "      label_t = correct_data[idx]\n",
        "\n",
        "      # Forward propagation\n",
        "      middle_layer.forward(input_x.reshape(1,1)) # Arrange the no of data in rows \n",
        "      output_layer.forward(middle_layer.y1)\n",
        "\n",
        "      # Backward propagation\n",
        "      output_layer.backward(label_t.reshape(1,1)) # Arrange the no of label in rows \n",
        "      middle_layer.backward(output_layer.grad_y1)\n",
        "\n",
        "      # Update eta\n",
        "      middle_layer.update(eta)\n",
        "      output_layer.update(eta)   \n",
        "\n",
        "    if (i%interval==0): print(f\"Complete the {i+interval} epoch\") "
      ]
    },
    {
      "cell_type": "code",
      "execution_count": 21,
      "metadata": {
        "id": "ehE--Rquuoqu"
      },
      "outputs": [],
      "source": [
        "# Demonstrate the result after training - Put the corresponding input to the model & plot the output\n",
        "\n",
        "middle_layer.forward(input_data_normalized.reshape(-1,1))\n",
        "output_layer.forward(middle_layer.y1)\n",
        "plot_y2 = output_layer.y2.reshape(-1) "
      ]
    },
    {
      "cell_type": "code",
      "execution_count": 24,
      "metadata": {},
      "outputs": [
        {
          "data": {
            "text/plain": [
              "<matplotlib.legend.Legend at 0x7064c6d77160>"
            ]
          },
          "execution_count": 24,
          "metadata": {},
          "output_type": "execute_result"
        },
        {
          "data": {
            "image/png": "[encoded data removed]",
            "text/plain": [
              "<Figure size 640x480 with 1 Axes>"
            ]
          },
          "metadata": {},
          "output_type": "display_data"
        }
      ],
      "source": [
        "# Plot the graph \n",
        "\n",
        "plt.plot(input_data_normalized, correct_data, linestyle='dashed', label='Correct data')\n",
        "plt.scatter(input_data_normalized, plot_y2, marker='+', label='Prediction after 2000 times training')\n",
        "plt.xlabel('Normalized x-axis')\n",
        "plt.ylabel('Y')\n",
        "plt.legend()"
      ]
    }
  ],
  "metadata": {
    "colab": {
      "authorship_tag": "ABX9TyNScPjEpRi7qBECdVwG+I07",
      "include_colab_link": true,
      "provenance": []
    },
    "kernelspec": {
      "display_name": "Python 3",
      "name": "python3"
    },
    "language_info": {
      "codemirror_mode": {
        "name": "ipython",
        "version": 3
      },
      "file_extension": ".py",
      "mimetype": "text/x-python",
      "name": "python",
      "nbconvert_exporter": "python",
      "pygments_lexer": "ipython3",
      "version": "3.10.14"
    }
  },
  "nbformat": 4,
  "nbformat_minor": 0
}
