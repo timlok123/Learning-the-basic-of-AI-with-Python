{
  "cells": [
    {
      "cell_type": "markdown",
      "metadata": {
        "id": "view-in-github",
        "colab_type": "text"
      },
      "source": [
        "<a href=\"https://colab.research.google.com/github/timlok123/Learning-the-basic-of-AI-with-Python/blob/main/Ch7_Convolutional_Neural_Network.ipynb\" target=\"_parent\"><img src=\"https://colab.research.google.com/assets/colab-badge.svg\" alt=\"Open In Colab\"/></a>"
      ]
    },
    {
      "cell_type": "markdown",
      "metadata": {
        "id": "wvGCns8CTwOv"
      },
      "source": [
        "# Ch7 Convolutional Neural Network"
      ]
    },
    {
      "cell_type": "markdown",
      "source": [
        "(idea of convolution layer)\n",
        "- Convolution kernel / filter"
      ],
      "metadata": {
        "id": "3V701Cio3NWQ"
      }
    },
    {
      "cell_type": "markdown",
      "source": [
        "(idea of pooling layer, max pooling and average pooling)\n",
        "\n",
        "- pooling layer would not count as 1 layer when we talk about the NN."
      ],
      "metadata": {
        "id": "bYJkQaaH3xa7"
      }
    },
    {
      "cell_type": "markdown",
      "source": [
        "idea of padding and stride\n",
        "\n",
        "- Padding\n",
        "    - e.g. 0-padding\n",
        "    - add the 0 values around the images => push the actual values to the centre\n",
        "\n",
        "- Stride\n",
        "    - e.g. the size your covolution layer jumps\n",
        "\n"
      ],
      "metadata": {
        "id": "aTs-YABQ5HHy"
      }
    },
    {
      "cell_type": "code",
      "source": [
        "import numpy as np"
      ],
      "metadata": {
        "id": "loqgV6Ch5GnI"
      },
      "execution_count": null,
      "outputs": []
    },
    {
      "cell_type": "markdown",
      "source": [
        "(Add the description to im2col)"
      ],
      "metadata": {
        "id": "q-AP28SP84hP"
      }
    },
    {
      "cell_type": "code",
      "source": [
        "def im2col(images, flt_h, flt_w, out_h, out_w, stride=1, pad=0):\n",
        "\n",
        "    n_bt, n_ch, img_h, img_w = images.shape\n",
        "\n",
        "    img_pad = np.pad(images, [(0,0), (0,0), (pad, pad), (pad, pad)], \"constant\")\n",
        "    cols = np.zeros((n_bt, n_ch, flt_h, flt_w, out_h, out_w))\n",
        "\n",
        "    for h in range(flt_h):\n",
        "        h_lim = h + stride*out_h\n",
        "        for w in range(flt_w):\n",
        "            w_lim = w + stride*out_w\n",
        "            cols[:, :, h, w, :, :] = img_pad[:, :, h:h_lim:stride, w:w_lim:stride]\n",
        "\n",
        "    cols = cols.transpose(1, 2, 3, 0, 4, 5).reshape(n_ch*flt_h*flt_w, n_bt*out_h*out_w)\n",
        "    return cols"
      ],
      "metadata": {
        "id": "r0BZjQwo9f9f"
      },
      "execution_count": null,
      "outputs": []
    },
    {
      "cell_type": "markdown",
      "source": [
        "### Convolution layer"
      ],
      "metadata": {
        "id": "lTYiDiyu8ygQ"
      }
    },
    {
      "cell_type": "markdown",
      "source": [
        "(add the graph of convolution layer on the book)"
      ],
      "metadata": {
        "id": "mPafcUxm8-C2"
      }
    },
    {
      "cell_type": "markdown",
      "source": [
        "1. Output height : $O_h = \\frac{I_h - F_h + 2 * D}{S} + 1 $\n",
        "2. Output width : $O_h = \\frac{I_w - F_w + 2 * D}{S} + 1 $\n",
        "\n",
        "- $I_h, I_w$ - image height and width\n",
        "- $F_h, F_w$ - filter height and width\n",
        "- $D$     - number of padding\n",
        "- $S$     - Length of stride"
      ],
      "metadata": {
        "id": "Caq-PlBv_23x"
      }
    },
    {
      "cell_type": "code",
      "source": [
        "class ConvolutionLayer:\n",
        "\n",
        "    def __init__(self,\n",
        "                 x_ch,\n",
        "                 x_h,\n",
        "                 x_w,\n",
        "                 n_flt,\n",
        "                 flt_h,\n",
        "                 flt_w,\n",
        "                 stride,\n",
        "                 pad,\n",
        "                 wb_width=0.1\n",
        "                ):\n",
        "\n",
        "        \"\"\"\n",
        "        x_ch - channel of photos (For RGB, it is 3)\n",
        "        x_h  - height of the photos\n",
        "        x_w  - width of the photos\n",
        "        n_flt - no of filters / convolution kernels\n",
        "        flt_h - height of the filters / convolution kernels\n",
        "        flt_w - width of the filters / convolution kernels\n",
        "        stride - stride of the filters / convolution kernels\n",
        "        pad - the width of pad on the surroundings of the photo\n",
        "\n",
        "        \"\"\"\n",
        "\n",
        "        # Group the unchanged parameters in a tuple\n",
        "        self.params = (x_ch,x_h,x_w, n_flt,flt_h,flt_w,stride,pad)\n",
        "\n",
        "        # Initialize the weight & bias in the layer\n",
        "        self.w = wb_width * np.random.rand(n_flt, x_ch, flt_h, flt_w)\n",
        "        self.b = wb_width * np.random.rand(1, n_flt)\n",
        "\n",
        "        # Channel of feature map\n",
        "        self.y_ch = n_flt\n",
        "\n",
        "        # Calculate the output width and height according to the formula\n",
        "        self.y_h = (x_h - ftl_h + 2*pad)//(stride) + 1\n",
        "        self.y_w = (x_w - ftl_w + 2*pad)//(stride) + 1\n",
        ""
      ],
      "metadata": {
        "id": "1NzEQ3eS8yND"
      },
      "execution_count": null,
      "outputs": []
    }
  ],
  "metadata": {
    "colab": {
      "provenance": [],
      "include_colab_link": true
    },
    "kernelspec": {
      "display_name": "Python 3",
      "name": "python3"
    },
    "language_info": {
      "codemirror_mode": {
        "name": "ipython",
        "version": 3
      },
      "file_extension": ".py",
      "mimetype": "text/x-python",
      "name": "python",
      "nbconvert_exporter": "python",
      "pygments_lexer": "ipython3",
      "version": "3.12.4"
    }
  },
  "nbformat": 4,
  "nbformat_minor": 0
}