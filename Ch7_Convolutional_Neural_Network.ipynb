{
  "cells": [
    {
      "cell_type": "markdown",
      "metadata": {
        "id": "wvGCns8CTwOv"
      },
      "source": [
        "# Ch7 Convolutional Neural Network"
      ]
    },
    {
      "cell_type": "markdown",
      "source": [
        "(idea of convolution layer)\n",
        "- Convolution kernel / filter"
      ],
      "metadata": {
        "id": "3V701Cio3NWQ"
      }
    },
    {
      "cell_type": "markdown",
      "source": [
        "(idea of pooling layer, max pooling and average pooling)\n",
        "\n",
        "- pooling layer would not count as 1 layer when we talk about the NN."
      ],
      "metadata": {
        "id": "bYJkQaaH3xa7"
      }
    },
    {
      "cell_type": "markdown",
      "source": [
        "idea of padding and stride\n",
        "\n",
        "- Padding\n",
        "    - e.g. 0-padding\n",
        "    - add the 0 values around the images => push the actual values to the centre\n",
        "\n",
        "- Stride\n",
        "    - e.g. the size your covolution layer jumps\n",
        "\n"
      ],
      "metadata": {
        "id": "aTs-YABQ5HHy"
      }
    },
    {
      "cell_type": "code",
      "source": [
        "import numpy as np"
      ],
      "metadata": {
        "id": "loqgV6Ch5GnI"
      },
      "execution_count": 1,
      "outputs": []
    },
    {
      "cell_type": "markdown",
      "source": [
        "(Add the description to im2col)"
      ],
      "metadata": {
        "id": "q-AP28SP84hP"
      }
    },
    {
      "cell_type": "code",
      "source": [
        "def im2col(images, flt_h, flt_w, out_h, out_w, stride=1, pad=0):\n",
        "\n",
        "    n_bt, n_ch, img_h, img_w = images.shape\n",
        "\n",
        "    img_pad = np.pad(images, [(0,0), (0,0), (pad, pad), (pad, pad)], \"constant\")\n",
        "    cols = np.zeros((n_bt, n_ch, flt_h, flt_w, out_h, out_w))\n",
        "\n",
        "    for h in range(flt_h):\n",
        "        h_lim = h + stride*out_h\n",
        "        for w in range(flt_w):\n",
        "            w_lim = w + stride*out_w\n",
        "            cols[:, :, h, w, :, :] = img_pad[:, :, h:h_lim:stride, w:w_lim:stride]\n",
        "\n",
        "    cols = cols.transpose(1, 2, 3, 0, 4, 5).reshape(n_ch*flt_h*flt_w, n_bt*out_h*out_w)\n",
        "    return cols"
      ],
      "metadata": {
        "id": "r0BZjQwo9f9f"
      },
      "execution_count": 2,
      "outputs": []
    }
  ],
  "metadata": {
    "colab": {
      "provenance": []
    },
    "kernelspec": {
      "display_name": "Python 3",
      "name": "python3"
    },
    "language_info": {
      "codemirror_mode": {
        "name": "ipython",
        "version": 3
      },
      "file_extension": ".py",
      "mimetype": "text/x-python",
      "name": "python",
      "nbconvert_exporter": "python",
      "pygments_lexer": "ipython3",
      "version": "3.12.4"
    }
  },
  "nbformat": 4,
  "nbformat_minor": 0
}